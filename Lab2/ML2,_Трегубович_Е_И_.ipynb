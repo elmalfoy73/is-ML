{
  "nbformat": 4,
  "nbformat_minor": 0,
  "metadata": {
    "hide_input": false,
    "kernelspec": {
      "display_name": "Python 3",
      "language": "python",
      "name": "python3"
    },
    "language_info": {
      "codemirror_mode": {
        "name": "ipython",
        "version": 3
      },
      "file_extension": ".py",
      "mimetype": "text/x-python",
      "name": "python",
      "nbconvert_exporter": "python",
      "pygments_lexer": "ipython3",
      "version": "3.7.1"
    },
    "toc": {
      "base_numbering": 1,
      "nav_menu": {},
      "number_sections": true,
      "sideBar": true,
      "skip_h1_title": false,
      "title_cell": "Table of Contents",
      "title_sidebar": "Contents",
      "toc_cell": true,
      "toc_position": {},
      "toc_section_display": true,
      "toc_window_display": false
    },
    "varInspector": {
      "cols": {
        "lenName": 16,
        "lenType": 16,
        "lenVar": 40
      },
      "kernels_config": {
        "python": {
          "delete_cmd_postfix": "",
          "delete_cmd_prefix": "del ",
          "library": "var_list.py",
          "varRefreshCmd": "print(var_dic_list())"
        },
        "r": {
          "delete_cmd_postfix": ") ",
          "delete_cmd_prefix": "rm(",
          "library": "var_list.r",
          "varRefreshCmd": "cat(var_dic_list()) "
        }
      },
      "types_to_exclude": [
        "module",
        "function",
        "builtin_function_or_method",
        "instance",
        "_Feature"
      ],
      "window_display": false
    },
    "colab": {
      "provenance": []
    }
  },
  "cells": [
    {
      "cell_type": "code",
      "metadata": {
        "ExecuteTime": {
          "end_time": "2020-04-23T10:16:05.965275Z",
          "start_time": "2020-04-23T10:16:05.312704Z"
        },
        "id": "bZ7J0si68JdT"
      },
      "source": [
        "import pandas as pd\n",
        "import numpy as np"
      ],
      "execution_count": null,
      "outputs": []
    },
    {
      "cell_type": "markdown",
      "metadata": {
        "id": "xjvL0IIG8Jd0"
      },
      "source": [
        "## Задание 0\n"
      ]
    },
    {
      "cell_type": "markdown",
      "metadata": {
        "id": "yaSxXHvxO0qo"
      },
      "source": [
        "Для всех  заданий будем использовать обезличенные транзакционные банковские данные. Для этого считайте в переменные **tr_mcc_codes, tr_types, transactions и gender_train** из одноимённых таблиц из папки [data](https://drive.google.com/drive/folders/1YAMe7MiTxA-RSSd8Ex2p-L0Dspe6Gs4L).\n",
        "\n",
        "Для таблицы transactions используйте только первые n=1000000 строк. При чтении файлов обратите внимание на разделители внутри каждого из файлов - они могут различаться!"
      ]
    },
    {
      "cell_type": "markdown",
      "metadata": {
        "id": "oP3lX9xC8Jd8"
      },
      "source": [
        "###  Описание данных\n",
        "#### Таблица ```transactions.csv```\n",
        "##### Описание\n",
        "Таблица содержит историю транзакций клиентов банка за один год и три месяца.\n",
        "\n",
        "##### Формат данных\n",
        "\n",
        "```\n",
        "customer_id,tr_datetime,mcc_code,tr_type,amount,term_id\n",
        "111111,15 01:40:52,1111,1000,-5224,111111\n",
        "111112,15 15:18:32,3333,2000,-100,11122233\n",
        "...\n",
        "```\n",
        "##### Описание полей\n",
        "\n",
        " - ```customer_id``` — идентификатор клиента;\n",
        " - ```tr_datetime``` — день и время совершения транзакции (дни нумеруются с начала данных);\n",
        " - ```mcc_code``` — mcc-код транзакции;\n",
        " - ```tr_type``` — тип транзакции;\n",
        " - ```amount``` — сумма транзакции в условных единицах со знаком; ```+``` — начисление средств клиенту (приходная транзакция), ```-``` — списание средств (расходная транзакция);\n",
        " - ```term_id``` — идентификатор терминала;\n",
        "\n",
        "\n",
        "#### Таблица ```gender_train.csv```\n",
        "\n",
        "##### Описание\n",
        "Данная таблица содержит информацию по полу для части клиентов, для которых он известен. Для остальных клиентов пол неизвестен.\n",
        "\n",
        "##### Формат данных\n",
        "```\n",
        "customer_id,gender\n",
        "111111,0\n",
        "111112,1\n",
        "...\n",
        "```\n",
        "\n",
        "##### Описание полей\n",
        " - ```customer_id``` — идентификатор клиента;\n",
        " - ```gender``` — пол клиента;\n",
        "\n",
        "### Таблица ```tr_mcc_codes.csv```\n",
        "\n",
        "##### Описание\n",
        "Данная таблица содержит описание mcc-кодов транзакций.\n",
        "\n",
        "##### Формат данных\n",
        "```\n",
        "mcc_code;mcc_description\n",
        "1000;словесное описание mcc-кода 1000\n",
        "2000;словесное описание mcc-кода 2000\n",
        "...\n",
        "```\n",
        "\n",
        "##### Описание полей\n",
        " - ```mcc_code``` – mcc-код транзакции;\n",
        " - ```mcc_description``` — описание mcc-кода транзакции.\n",
        "\n",
        "#### Таблица ```tr_types.csv```\n",
        "\n",
        "##### Описание\n",
        "Данная таблица содержит описание типов транзакций.\n",
        "\n",
        "##### Формат данных\n",
        "```\n",
        "tr_type;tr_description\n",
        "1000;словесное описание типа транзакции 1000\n",
        "2000;словесное описание типа транзакции 2000\n",
        "...\n",
        "```\n",
        "\n",
        "##### Описание полей\n",
        " - ```tr_type``` – тип транзакции;\n",
        " - ```tr_description``` — описание типа транзакции;"
      ]
    },
    {
      "cell_type": "code",
      "source": [
        "from google.colab import drive\n",
        "\n",
        "drive.mount('/content/drive')\n",
        "\n",
        "transactions = pd.read_csv('/content/drive/MyDrive/Data/transactions.csv', nrows=1000000, sep=',')\n",
        "tr_types = pd.read_csv('/content/drive/MyDrive/Data/tr_types.csv', sep=';')\n",
        "gender_train = pd.read_csv(\"drive/MyDrive/Data/gender_train.csv\",sep = ',')\n",
        "tr_mcc_codes = pd.read_csv(\"drive//MyDrive/Data/tr_mcc_codes.csv\",sep = ';')"
      ],
      "metadata": {
        "colab": {
          "base_uri": "https://localhost:8080/"
        },
        "id": "ZTtCZqHswZHj",
        "outputId": "b9cc26b2-6a77-4784-e394-911dba9ca0f8"
      },
      "execution_count": null,
      "outputs": [
        {
          "output_type": "stream",
          "name": "stdout",
          "text": [
            "Drive already mounted at /content/drive; to attempt to forcibly remount, call drive.mount(\"/content/drive\", force_remount=True).\n"
          ]
        }
      ]
    },
    {
      "cell_type": "markdown",
      "metadata": {
        "id": "04CYsBKz8JeB"
      },
      "source": [
        "\n",
        "Задания 1-4 делаются без использования merge!\n",
        "\n",
        "## Задание 1\n",
        "\n"
      ]
    },
    {
      "cell_type": "markdown",
      "metadata": {
        "id": "1hcrfwsYN_Yz"
      },
      "source": [
        "1. Для столбца tr_type датафрейма transactions выберите произвольные 1000 строк с помощью метода sample\n",
        "2. В полученной на предыдущем этапе подвыборке найдите долю транзакций (стобец tr_description в датасете tr_types), в которой содержится подстрока 'POS' или 'ATM'\n"
      ]
    },
    {
      "cell_type": "code",
      "source": [
        "sample = transactions['tr_type'].sample(n=1000)\n",
        "\n",
        "\n",
        "pos_or_atm = tr_types.loc[tr_types['tr_description'].str.contains('POS') | tr_types['tr_description'].str.contains('АТМ')]['tr_type']\n",
        "matched_counts = sample.isin(pos_or_atm).value_counts()[True]\n",
        "print(\"{:.3f}\".format(matched_counts / 1000))"
      ],
      "metadata": {
        "colab": {
          "base_uri": "https://localhost:8080/"
        },
        "id": "MpbD1W8-x658",
        "outputId": "49e256bf-d0d8-47ae-fde5-129bb7b05672"
      },
      "execution_count": null,
      "outputs": [
        {
          "output_type": "stream",
          "name": "stdout",
          "text": [
            "0.640\n"
          ]
        }
      ]
    },
    {
      "cell_type": "markdown",
      "metadata": {
        "id": "fiZBDIZt8JeS"
      },
      "source": [
        "## Задание 2\n"
      ]
    },
    {
      "cell_type": "markdown",
      "metadata": {
        "id": "FFKeBUThOCrz"
      },
      "source": [
        "1. Для столбца tr_type датафрейма transactions посчитайте частоту встречаемости всех типов транзакций tr_type в transactions.\n",
        "2. Выведите топ-10 транзакций по частоте встречаемости (вывести для них tr_description тоже)."
      ]
    },
    {
      "cell_type": "code",
      "source": [
        "# Подсчет частоты встречаемости транзакций\n",
        "transaction_counts = transactions['tr_type'].value_counts(normalize=True, sort=True)\n",
        "\n",
        "# Вывод топ-10 транзакций по частоте встречаемости\n",
        "top_10_transactions = transaction_counts.head(10)\n",
        "\n",
        "# Вывод топ-10 транзакций соответствующих описаний\n",
        "for transaction, count in top_10_transactions.items():\n",
        "    description = tr_types[tr_types['tr_type'] == transaction]['tr_description'].values[0]\n",
        "    print(f\"Тип транзакции: {transaction}, Частота: {count}, Описание: {description}\")"
      ],
      "metadata": {
        "colab": {
          "base_uri": "https://localhost:8080/"
        },
        "id": "_ZUYujeM92Ke",
        "outputId": "b45c01d0-54cf-4ac6-bcaf-cf52f1419d96"
      },
      "execution_count": null,
      "outputs": [
        {
          "output_type": "stream",
          "name": "stdout",
          "text": [
            "Тип транзакции: 1010, Частота: 0.231117, Описание: Покупка. POS ТУ СБ РФ\n",
            "Тип транзакции: 2010, Частота: 0.151166, Описание: Выдача наличных в АТМ Сбербанк России\n",
            "Тип транзакции: 7070, Частота: 0.149006, Описание: Перевод на карту (с карты) через Мобильный банк (без взимания комиссии с отправителя)\n",
            "Тип транзакции: 1110, Частота: 0.137658, Описание: Покупка. POS ТУ Россия\n",
            "Тип транзакции: 1030, Частота: 0.118975, Описание: Оплата услуги. Банкоматы СБ РФ\n",
            "Тип транзакции: 2370, Частота: 0.04983, Описание: Списание с карты на карту по операции <перевода с карты на карту> через Мобильный банк (без комиссии)\n",
            "Тип транзакции: 7010, Частота: 0.028972, Описание: Взнос наличных через АТМ (в своем тер.банке)\n",
            "Тип транзакции: 7030, Частота: 0.026078, Описание: Перевод на карту (с карты) через АТМ (в пределах одного тер.банка)\n",
            "Тип транзакции: 7071, Частота: 0.015781, Описание: Перевод на карту (с карты) через Мобильный банк (с взиманием комиссии с отправителя)\n",
            "Тип транзакции: 1100, Частота: 0.015476, Описание: Покупка. ТУ  Россия\n"
          ]
        }
      ]
    },
    {
      "cell_type": "markdown",
      "metadata": {
        "id": "mktm_JeA8JeX"
      },
      "source": [
        "## Задание 3\n",
        "1. В датафрейме transactions найдите клиента с максимальной суммой приходов на карту\n",
        "2. В датафрейме transactions найдите клиента с максимальной суммой расходов по карте\n",
        "3. Найдите модуль разницы для этих клиентов между суммой расходов и суммой приходов"
      ]
    },
    {
      "cell_type": "code",
      "source": [
        "# Расчет суммы приходов для каждого клиента\n",
        "income_sums = transactions[transactions['amount'] > 0].groupby('customer_id')['amount'].sum()\n",
        "\n",
        "# Нахождение клиента с максимальной суммой приходов\n",
        "max_income_customer = income_sums.idxmax()\n",
        "\n",
        "# Расчет суммы расходов для каждого клиента\n",
        "expenses_sums = transactions[transactions['amount'] < 0].groupby('customer_id')['amount'].sum()\n",
        "\n",
        "# Нахождение клиента с максимальной суммой расходов\n",
        "max_expenses_customer = expenses_sums.idxmin()\n",
        "\n",
        "# Нахождение модуля разницы между суммой расходов и суммой приходов\n",
        "difference1 = np.abs( -1 * income_sums.max() - expenses_sums.min())\n",
        "\n",
        "\n",
        "print(f\"Клиент с максимальной суммой приходов: {max_income_customer}\")\n",
        "print(f\"Клиент с максимальной суммой расходов: {max_expenses_customer}\")\n",
        "print(f\"Модуль разницы между суммой расходов и суммой приходов: {difference1}\")"
      ],
      "metadata": {
        "colab": {
          "base_uri": "https://localhost:8080/"
        },
        "id": "cUAlX9doA94V",
        "outputId": "84811f3a-0649-49d1-910e-d3c3f272661a"
      },
      "execution_count": null,
      "outputs": [
        {
          "output_type": "stream",
          "name": "stdout",
          "text": [
            "Клиент с максимальной суммой приходов: 70780820\n",
            "Клиент с максимальной суммой расходов: 70780820\n",
            "Модуль разницы между суммой расходов и суммой приходов: 1837317.980000019\n"
          ]
        }
      ]
    },
    {
      "cell_type": "markdown",
      "metadata": {
        "id": "BYrJ5b_E8Jee"
      },
      "source": [
        "## Задание 4\n",
        "1. Найдите среднее арифметическое и медиану по amount по всем типам транзакций из топ 10 из задания 2\n",
        "1. Найдите среднее арифметическое и медиану по amount по всем типам транзакций для клиентов из задания 3"
      ]
    },
    {
      "cell_type": "code",
      "source": [
        "# Подвыборка из топ-10 типов транзакций из задания 2\n",
        "transactions_top10 = transactions[transactions['tr_type'].isin(top_10_transactions.index)]\n",
        "\n",
        "# Среднее арифметическое и медиана по amount для типов транзакций из топ-10\n",
        "mean_top10 = transactions_top10.groupby(['tr_type']).mean(numeric_only = True)['amount']\n",
        "median_top10 = transactions_top10.groupby(['tr_type']).median(numeric_only = True)['amount']\n",
        "\n",
        "print(\"Среднее арифметическое: \", mean_top10)\n",
        "print(\"Медиана: \", median_top10)\n"
      ],
      "metadata": {
        "colab": {
          "base_uri": "https://localhost:8080/"
        },
        "id": "P4GugL8SHDa_",
        "outputId": "00fb9085-bc56-4290-abca-ea9d21b15a5a"
      },
      "execution_count": null,
      "outputs": [
        {
          "output_type": "stream",
          "name": "stdout",
          "text": [
            "Среднее арифметическое:  tr_type\n",
            "1010    -19784.748640\n",
            "1030     -5320.980222\n",
            "1100    -44061.827262\n",
            "1110    -32119.330371\n",
            "2010   -136077.629325\n",
            "2370   -205418.249032\n",
            "7010    276391.789596\n",
            "7030     86104.332909\n",
            "7070     65569.831700\n",
            "7071     66806.826623\n",
            "Name: amount, dtype: float64\n",
            "Медиана:  tr_type\n",
            "1010     -7411.52\n",
            "1030     -2245.92\n",
            "1100    -10188.26\n",
            "1110    -11207.57\n",
            "2010    -44918.32\n",
            "2370    -44918.32\n",
            "7010    112295.79\n",
            "7030     13951.52\n",
            "7070     11319.42\n",
            "7071      3593.47\n",
            "Name: amount, dtype: float64\n"
          ]
        }
      ]
    },
    {
      "cell_type": "code",
      "source": [
        "# Подвыборка транзакций для клиента с максимальной суммой приходов и расходов\n",
        "transactions_income = transactions[transactions['customer_id'] == max_income_customer]\n",
        "transactions_expenses = transactions[transactions['customer_id'] == max_expenses_customer]\n",
        "\n",
        "# Среднее арифметическое и медиана по amount для клиента с максимальной суммой приходов\n",
        "mean_income = transactions_income.groupby(['tr_type']).mean(numeric_only = True)['amount']\n",
        "median_income = transactions_income.groupby(['tr_type']).median(numeric_only = True)['amount']\n",
        "\n",
        "# Среднее арифметическое и медиана по amount для клиента с максимальной суммой расходов\n",
        "mean_expenses = transactions_expenses.groupby(['tr_type']).mean(numeric_only = True)['amount']\n",
        "median_expenses = transactions_expenses.groupby(['tr_type']).median(numeric_only = True)['amount']\n",
        "\n",
        "print(\"Среднее арифметическое для клиента с максимальной суммой приходов: \", mean_income)\n",
        "print(\"Медиана для клиента с максимальной суммой приходов: \", median_income)\n",
        "print(\"Среднее арифметическое для клиента с максимальной суммой расходов: \", mean_expenses)\n",
        "print(\"Медиана для клиента с максимальной суммой расходов: \", median_expenses)"
      ],
      "metadata": {
        "colab": {
          "base_uri": "https://localhost:8080/"
        },
        "id": "vp63dX_FHOPJ",
        "outputId": "43549765-04d5-4df2-9f0a-cdc12dc2b18c"
      },
      "execution_count": null,
      "outputs": [
        {
          "output_type": "stream",
          "name": "stdout",
          "text": [
            "Среднее арифметическое для клиента с максимальной суммой приходов:  tr_type\n",
            "2010   -2.941056e+06\n",
            "2330   -2.382398e+06\n",
            "2370   -2.218505e+06\n",
            "6110    1.756293e+04\n",
            "7020    1.465129e+04\n",
            "7021    2.850067e+04\n",
            "7030    1.406196e+04\n",
            "7031    1.921036e+04\n",
            "7034    1.430648e+04\n",
            "7040    2.153833e+04\n",
            "7070    1.384821e+04\n",
            "7071    1.860057e+04\n",
            "7074    2.281159e+04\n",
            "Name: amount, dtype: float64\n",
            "Медиана для клиента с максимальной суммой приходов:  tr_type\n",
            "2010   -3368873.660\n",
            "2330   -2245915.770\n",
            "2370   -2245915.770\n",
            "6110      10028.010\n",
            "7020      10319.985\n",
            "7021      28500.670\n",
            "7030       8848.910\n",
            "7031      12992.620\n",
            "7034      14306.480\n",
            "7040      14396.320\n",
            "7070       8714.150\n",
            "7071      12543.440\n",
            "7074       9387.930\n",
            "Name: amount, dtype: float64\n",
            "Среднее арифметическое для клиента с максимальной суммой расходов:  tr_type\n",
            "2010   -2.941056e+06\n",
            "2330   -2.382398e+06\n",
            "2370   -2.218505e+06\n",
            "6110    1.756293e+04\n",
            "7020    1.465129e+04\n",
            "7021    2.850067e+04\n",
            "7030    1.406196e+04\n",
            "7031    1.921036e+04\n",
            "7034    1.430648e+04\n",
            "7040    2.153833e+04\n",
            "7070    1.384821e+04\n",
            "7071    1.860057e+04\n",
            "7074    2.281159e+04\n",
            "Name: amount, dtype: float64\n",
            "Медиана для клиента с максимальной суммой расходов:  tr_type\n",
            "2010   -3368873.660\n",
            "2330   -2245915.770\n",
            "2370   -2245915.770\n",
            "6110      10028.010\n",
            "7020      10319.985\n",
            "7021      28500.670\n",
            "7030       8848.910\n",
            "7031      12992.620\n",
            "7034      14306.480\n",
            "7040      14396.320\n",
            "7070       8714.150\n",
            "7071      12543.440\n",
            "7074       9387.930\n",
            "Name: amount, dtype: float64\n"
          ]
        }
      ]
    },
    {
      "cell_type": "markdown",
      "metadata": {
        "id": "BYXwM4l3QDBu"
      },
      "source": [
        "## Подготовка для заданий 5-8"
      ]
    },
    {
      "cell_type": "markdown",
      "metadata": {
        "id": "XWQzFeKcQHRe"
      },
      "source": [
        "*Из заданий 5-8 нужно выполнить минимум два любых*\n",
        "\n",
        "Соедините transactions с всеми остальными таблицами (tr_mcc_codes, tr_types, gender_train). Причём с gender_train необходимо смёрджиться с помощью left join, а с оставшимися датафреймами - через inner.\n",
        "После получения результата таблицы gender_train, tr_types, tr_mcc_codes можно удалить. В результате соединения датафреймов должно получиться 999584 строки."
      ]
    },
    {
      "cell_type": "code",
      "metadata": {
        "id": "sndJxjJ7QQf5",
        "colab": {
          "base_uri": "https://localhost:8080/"
        },
        "outputId": "e9d044f5-f9e2-45cd-d3f6-2568324d347c"
      },
      "source": [
        "transactions = pd.merge(transactions, gender_train, how='left')\n",
        "transactions = pd.merge(transactions, tr_mcc_codes, how='inner')\n",
        "transactions = pd.merge(transactions, tr_types, how='inner')\n",
        "transactions.shape"
      ],
      "execution_count": null,
      "outputs": [
        {
          "output_type": "execute_result",
          "data": {
            "text/plain": [
              "(999584, 9)"
            ]
          },
          "metadata": {},
          "execution_count": 11
        }
      ]
    },
    {
      "cell_type": "markdown",
      "metadata": {
        "id": "8vrFauJ8QgmT"
      },
      "source": [
        "## Задание 5"
      ]
    },
    {
      "cell_type": "markdown",
      "metadata": {
        "id": "rOjEQ5xyQfE_"
      },
      "source": [
        "1. Определите модуль разницы между средними тратами женщин и мужчин (трата - отрицательное значение amount).\n",
        "2. Определите модуль разницы между средними поступлениями у мужчин и женщин\n",
        "\n",
        "Обратите внимание, что для вычисления модуля разности точных знаний о том,\n",
        "какой класc относится к мужчинам, а какой - к женщинам, не требуется."
      ]
    },
    {
      "cell_type": "code",
      "source": [
        "from IPython.utils import tempdir\n",
        "\n",
        "# Создание двух отдельных датафреймов для женщин и мужчин\n",
        "gender0_data = transactions[transactions['gender'] == 0]\n",
        "gender1_data = transactions[transactions['gender'] == 1]\n",
        "\n",
        "# Вычисление средних трат для женщин и мужчин\n",
        "average_gender0_spending = gender0_data[gender0_data['amount'] < 0]['amount'].mean()\n",
        "average_gender1_spending = gender1_data[gender1_data['amount'] < 0]['amount'].mean()\n",
        "\n",
        "# Вычисление средних поступлений для женщин и мужчин\n",
        "average_gender0_income = gender0_data[gender0_data['amount'] > 0]['amount'].mean()\n",
        "average_gender1_income = gender1_data[gender1_data['amount'] > 0]['amount'].mean()\n",
        "\n",
        "# Вычисление модуля разницы между средними тратами женщин и мужчин\n",
        "spending_diff = abs(average_gender0_spending - average_gender1_spending)\n",
        "\n",
        "# Вычисление модуля разницы между средними поступлениями у мужчин и женщин\n",
        "income_diff = abs(average_gender0_income - average_gender1_income)\n",
        "\n",
        "# Вывод результатов\n",
        "print(\"Модуль разницы между средними тратами женщин и мужчин:\", spending_diff)\n",
        "print(\"Модуль разницы между средними поступлениями у мужчин и женщин:\", income_diff)"
      ],
      "metadata": {
        "colab": {
          "base_uri": "https://localhost:8080/"
        },
        "id": "w-A-sUCfMWly",
        "outputId": "6a85592e-ff78-4987-cdb3-f2110dbef44e"
      },
      "execution_count": null,
      "outputs": [
        {
          "output_type": "stream",
          "name": "stdout",
          "text": [
            "Модуль разницы между средними тратами женщин и мужчин: 32718.05492022467\n",
            "Модуль разницы между средними поступлениями у мужчин и женщин: 63366.57104801465\n"
          ]
        }
      ]
    },
    {
      "cell_type": "markdown",
      "metadata": {
        "id": "DSHFLbepQ7G1"
      },
      "source": [
        "## Задание 6"
      ]
    },
    {
      "cell_type": "markdown",
      "metadata": {
        "id": "2EF1490bQ-17"
      },
      "source": [
        "1. По всем типам транзакций рассчитайте максимальную сумму прихода на карту (из строго положительных сумм по столбцу amount) отдельно для мужчин и женщин (назовите ее \"max_income\"). Оставьте по 10 типов транзакций для мужчин и для женщин, наименьших среди всех типов транзакций по полученным значениям \"max_income\".\n",
        "2. Выделите среди них те типы транзакций, которые встречаются одновременно и у мужчин, и у женщин"
      ]
    },
    {
      "cell_type": "code",
      "source": [
        "# Фильтрация положительных сумм транзакций\n",
        "positive_transactions = transactions.loc[transactions['amount'] > 0]\n",
        "\n",
        "# Расчет максимальной суммы прихода на карту для каждого типа транзакции и каждого пола\n",
        "max_income = positive_transactions.groupby(['gender', 'tr_type'])['amount'].max().reset_index()\n",
        "\n",
        "# Присоединение описания типов транзакций\n",
        "max_income = pd.merge(max_income, tr_types, on='tr_type')\n",
        "\n",
        "# Отсортировать значения \"max_income\"\n",
        "max_income_sorted = max_income.sort_values(by=['gender', 'amount'], ascending=True).groupby('gender').head(10)\n",
        "\n",
        "# Вывод результатов\n",
        "print(max_income_sorted)\n",
        "\n",
        "# Выделение списка типов транзакций для мужчин и женщин\n",
        "gender0_types = set(max_income_sorted[max_income_sorted['gender'] == 0]['tr_type'])\n",
        "gender1_types = set(max_income_sorted[max_income_sorted['gender'] == 1]['tr_type'])\n",
        "\n",
        "# Выделение общих типов транзакций\n",
        "common_types = gender0_types.intersection(gender1_types)\n",
        "\n",
        "# Присоединение описания общих типов транзакций\n",
        "common_types = pd.merge(pd.DataFrame({'tr_type': list(common_types)}), tr_types, on='tr_type')\n",
        "\n",
        "# Вывод результатов\n",
        "print(common_types)"
      ],
      "metadata": {
        "colab": {
          "base_uri": "https://localhost:8080/"
        },
        "id": "Nh-WDBpqE8q4",
        "outputId": "629582fe-20a0-4dd9-ee26-be846f97fd25"
      },
      "execution_count": null,
      "outputs": [
        {
          "output_type": "stream",
          "name": "stdout",
          "text": [
            "    gender  tr_type     amount  \\\n",
            "18     0.0     4051    1122.96   \n",
            "20     0.0     4110    2245.92   \n",
            "22     0.0     4210    2245.92   \n",
            "16     0.0     2370    2335.75   \n",
            "19     0.0     4100    5041.86   \n",
            "67     0.0     7075    6737.75   \n",
            "12     0.0     2110   22459.16   \n",
            "0      0.0     1010   24839.83   \n",
            "10     0.0     2010   44918.32   \n",
            "14     0.0     2210   68315.82   \n",
            "21     1.0     4110    2245.92   \n",
            "70     1.0     2020    2245.92   \n",
            "1      1.0     1010   28803.87   \n",
            "71     1.0     8100   64682.37   \n",
            "24     1.0     6000   79280.83   \n",
            "60     1.0     7041   87590.72   \n",
            "11     1.0     2010   89836.63   \n",
            "13     1.0     2110  112295.79   \n",
            "17     1.0     2370  113194.15   \n",
            "42     1.0     7015  121279.45   \n",
            "\n",
            "                                       tr_description  \n",
            "18  Плата за перевод на карту (с карты) через АТМ ...  \n",
            "20          Плата за получение наличных в АТМ. Россия  \n",
            "22        Плата за получение наличных в АТМ. Зарубеж.  \n",
            "16  Списание с карты на карту по операции <перевод...  \n",
            "19                Плата за получение наличных. Россия  \n",
            "67  Перевод с карты на карту в овердрафте через Мо...  \n",
            "12                             Наличные.   АТМ Россия  \n",
            "0                               Покупка. POS ТУ СБ РФ  \n",
            "10              Выдача наличных в АТМ Сбербанк России  \n",
            "14                       Наличные.  АТМ Зарубеж. банк  \n",
            "21          Плата за получение наличных в АТМ. Россия  \n",
            "70                Выдача наличных через POS Сбербанка  \n",
            "1                               Покупка. POS ТУ СБ РФ  \n",
            "71     Списание после проведения претензионной работы  \n",
            "24                         Возврат  покупки. ТУ СБ РФ  \n",
            "60  Перевод на карту (с карты) через POS (из одног...  \n",
            "11              Выдача наличных в АТМ Сбербанк России  \n",
            "13                             Наличные.   АТМ Россия  \n",
            "17  Списание с карты на карту по операции <перевод...  \n",
            "42  Взнос наличных через АТМ (в других ТБ) по счет...  \n",
            "   tr_type                                     tr_description\n",
            "0     2370  Списание с карты на карту по операции <перевод...\n",
            "1     4110          Плата за получение наличных в АТМ. Россия\n",
            "2     1010                              Покупка. POS ТУ СБ РФ\n",
            "3     2010              Выдача наличных в АТМ Сбербанк России\n",
            "4     2110                             Наличные.   АТМ Россия\n"
          ]
        }
      ]
    },
    {
      "cell_type": "markdown",
      "metadata": {
        "id": "W-LaVwRdR3UB"
      },
      "source": [
        "## Задание 7"
      ]
    },
    {
      "cell_type": "markdown",
      "metadata": {
        "id": "rhI4NOciR7e0"
      },
      "source": [
        "1. Найдите суммы затрат по каждой категории (mcc) для мужчин и для женщин.\n",
        "2. Найдите топ 10 категорий с самыми большими относительными модулями разности в тратах для разных полов (в ответе должны присутствовать описания mcc кодов)."
      ]
    },
    {
      "cell_type": "code",
      "source": [
        "# Группировка данных по mcc и полу, суммирование затрат\n",
        "expenses_by_category = transactions.groupby(['gender', 'mcc_code', 'mcc_description'])['amount'].sum().reset_index()\n",
        "\n",
        "# Фильтрация только мужчин и женщин\n",
        "expenses_gender0 = expenses_by_category[expenses_by_category['gender'] == 0]\n",
        "expenses_gender1 = expenses_by_category[expenses_by_category['gender'] == 1]\n",
        "\n",
        "# Вывод результатов\n",
        "print(\"Суммы затрат по каждой категории (mcc) для гендера 0:\")\n",
        "print(expenses_gender0)\n",
        "\n",
        "print(\"\\nСуммы затрат по каждой категории (mcc) для гендера 1:\")\n",
        "print(expenses_gender1)\n",
        "\n",
        "\n",
        "# Вычисление разности в суммах затрат для каждой категории mcc между мужчинами и женщинами\n",
        "expenses_diff = expenses_gender0.merge(expenses_gender1, on=['mcc_code', 'mcc_description'], how='outer', suffixes=('_male', '_female'))\n",
        "expenses_diff['diff'] = abs(expenses_diff['amount_male'] - expenses_diff['amount_female'])\n",
        "\n",
        "# Сортировка по убыванию разности и выбор топ 10\n",
        "top_10_categories = expenses_diff.sort_values('diff', ascending=False).head(10)\n",
        "\n",
        "# Вывод результатов\n",
        "print(\"Топ 10 категорий с самыми большими относительными модулями разности в тратах для разных полов:\")\n",
        "top_10_categories[['mcc_code', 'mcc_description', 'diff']]"
      ],
      "metadata": {
        "colab": {
          "base_uri": "https://localhost:8080/",
          "height": 1000
        },
        "id": "VXDt0M8sI27E",
        "outputId": "36b7c578-b38d-4c01-d7ad-b3fc942543f2"
      },
      "execution_count": null,
      "outputs": [
        {
          "output_type": "stream",
          "name": "stdout",
          "text": [
            "Суммы затрат по каждой категории (mcc) для гендера 0:\n",
            "     gender  mcc_code                                    mcc_description  \\\n",
            "0       0.0       742                                Ветеринарные услуги   \n",
            "1       0.0      1711  Генеральные подрядчики по вентиляции, теплосна...   \n",
            "2       0.0      1799  Подрядчики, специализированная торговля — нигд...   \n",
            "3       0.0      2741           Разнообразные издательства/печатное дело   \n",
            "4       0.0      3000                            Авиалинии, авиакомпании   \n",
            "..      ...       ...                                                ...   \n",
            "169     0.0      8699  Организации, членства, нигде ранее не классифи...   \n",
            "170     0.0      8999  Профессиональные услуги, нигде ранее не класси...   \n",
            "171     0.0      9222                                             Штрафы   \n",
            "172     0.0      9311                                  Налоговые платежи   \n",
            "173     0.0      9399  Правительственные услуги, нигде ранее не класс...   \n",
            "\n",
            "          amount  \n",
            "0     -386207.68  \n",
            "1     -674897.69  \n",
            "2     -261626.73  \n",
            "3      -20746.42  \n",
            "4   -70435914.05  \n",
            "..           ...  \n",
            "169   -521107.48  \n",
            "170 -19421951.30  \n",
            "171   -361143.24  \n",
            "172   -372897.03  \n",
            "173  -1481389.65  \n",
            "\n",
            "[174 rows x 4 columns]\n",
            "\n",
            "Суммы затрат по каждой категории (mcc) для гендера 1:\n",
            "     gender  mcc_code                                    mcc_description  \\\n",
            "174     1.0       742                                Ветеринарные услуги   \n",
            "175     1.0      1711  Генеральные подрядчики по вентиляции, теплосна...   \n",
            "176     1.0      1731                        Подрядчики по электричеству   \n",
            "177     1.0      1799  Подрядчики, специализированная торговля — нигд...   \n",
            "178     1.0      2741           Разнообразные издательства/печатное дело   \n",
            "..      ...       ...                                                ...   \n",
            "344     1.0      8999  Профессиональные услуги, нигде ранее не класси...   \n",
            "345     1.0      9222                                             Штрафы   \n",
            "346     1.0      9311                                  Налоговые платежи   \n",
            "347     1.0      9399  Правительственные услуги, нигде ранее не класс...   \n",
            "348     1.0      9402             Почтовые услуги — только правительство   \n",
            "\n",
            "          amount  \n",
            "174   -132277.93  \n",
            "175   -206264.90  \n",
            "176   -121542.67  \n",
            "177  -1129257.68  \n",
            "178   -221290.08  \n",
            "..           ...  \n",
            "344 -28636743.64  \n",
            "345   -988205.17  \n",
            "346   -373271.22  \n",
            "347  -1810820.67  \n",
            "348     -4581.67  \n",
            "\n",
            "[175 rows x 4 columns]\n",
            "Топ 10 категорий с самыми большими относительными модулями разности в тратах для разных полов:\n"
          ]
        },
        {
          "output_type": "execute_result",
          "data": {
            "text/plain": [
              "     mcc_code                                    mcc_description          diff\n",
              "120      6010   Финансовые институты — снятие наличности вручную  2.674450e+09\n",
              "21       4829                                  Денежные переводы  2.498985e+09\n",
              "121      6011  Финансовые институты — снятие наличности автом...  2.196476e+09\n",
              "64       5541                            Станции техобслуживания  1.541972e+08\n",
              "61       5511  Легковой и грузовой транспорт — продажа, серви...  7.329935e+07\n",
              "88       5812             Места общественного питания, рестораны  7.032414e+07\n",
              "63       5533                          Автозапчасти и аксессуары  4.240522e+07\n",
              "113      5977                                 Магазины косметики  4.240471e+07\n",
              "122      6012           Финансовые институты — торговля и услуги  4.191607e+07\n",
              "154      7995                       Транзакции по азартным играм  4.000995e+07"
            ],
            "text/html": [
              "\n",
              "  <div id=\"df-817c5d26-2888-48e4-82c0-92dd508a90ee\" class=\"colab-df-container\">\n",
              "    <div>\n",
              "<style scoped>\n",
              "    .dataframe tbody tr th:only-of-type {\n",
              "        vertical-align: middle;\n",
              "    }\n",
              "\n",
              "    .dataframe tbody tr th {\n",
              "        vertical-align: top;\n",
              "    }\n",
              "\n",
              "    .dataframe thead th {\n",
              "        text-align: right;\n",
              "    }\n",
              "</style>\n",
              "<table border=\"1\" class=\"dataframe\">\n",
              "  <thead>\n",
              "    <tr style=\"text-align: right;\">\n",
              "      <th></th>\n",
              "      <th>mcc_code</th>\n",
              "      <th>mcc_description</th>\n",
              "      <th>diff</th>\n",
              "    </tr>\n",
              "  </thead>\n",
              "  <tbody>\n",
              "    <tr>\n",
              "      <th>120</th>\n",
              "      <td>6010</td>\n",
              "      <td>Финансовые институты — снятие наличности вручную</td>\n",
              "      <td>2.674450e+09</td>\n",
              "    </tr>\n",
              "    <tr>\n",
              "      <th>21</th>\n",
              "      <td>4829</td>\n",
              "      <td>Денежные переводы</td>\n",
              "      <td>2.498985e+09</td>\n",
              "    </tr>\n",
              "    <tr>\n",
              "      <th>121</th>\n",
              "      <td>6011</td>\n",
              "      <td>Финансовые институты — снятие наличности автом...</td>\n",
              "      <td>2.196476e+09</td>\n",
              "    </tr>\n",
              "    <tr>\n",
              "      <th>64</th>\n",
              "      <td>5541</td>\n",
              "      <td>Станции техобслуживания</td>\n",
              "      <td>1.541972e+08</td>\n",
              "    </tr>\n",
              "    <tr>\n",
              "      <th>61</th>\n",
              "      <td>5511</td>\n",
              "      <td>Легковой и грузовой транспорт — продажа, серви...</td>\n",
              "      <td>7.329935e+07</td>\n",
              "    </tr>\n",
              "    <tr>\n",
              "      <th>88</th>\n",
              "      <td>5812</td>\n",
              "      <td>Места общественного питания, рестораны</td>\n",
              "      <td>7.032414e+07</td>\n",
              "    </tr>\n",
              "    <tr>\n",
              "      <th>63</th>\n",
              "      <td>5533</td>\n",
              "      <td>Автозапчасти и аксессуары</td>\n",
              "      <td>4.240522e+07</td>\n",
              "    </tr>\n",
              "    <tr>\n",
              "      <th>113</th>\n",
              "      <td>5977</td>\n",
              "      <td>Магазины косметики</td>\n",
              "      <td>4.240471e+07</td>\n",
              "    </tr>\n",
              "    <tr>\n",
              "      <th>122</th>\n",
              "      <td>6012</td>\n",
              "      <td>Финансовые институты — торговля и услуги</td>\n",
              "      <td>4.191607e+07</td>\n",
              "    </tr>\n",
              "    <tr>\n",
              "      <th>154</th>\n",
              "      <td>7995</td>\n",
              "      <td>Транзакции по азартным играм</td>\n",
              "      <td>4.000995e+07</td>\n",
              "    </tr>\n",
              "  </tbody>\n",
              "</table>\n",
              "</div>\n",
              "    <div class=\"colab-df-buttons\">\n",
              "\n",
              "  <div class=\"colab-df-container\">\n",
              "    <button class=\"colab-df-convert\" onclick=\"convertToInteractive('df-817c5d26-2888-48e4-82c0-92dd508a90ee')\"\n",
              "            title=\"Convert this dataframe to an interactive table.\"\n",
              "            style=\"display:none;\">\n",
              "\n",
              "  <svg xmlns=\"http://www.w3.org/2000/svg\" height=\"24px\" viewBox=\"0 -960 960 960\">\n",
              "    <path d=\"M120-120v-720h720v720H120Zm60-500h600v-160H180v160Zm220 220h160v-160H400v160Zm0 220h160v-160H400v160ZM180-400h160v-160H180v160Zm440 0h160v-160H620v160ZM180-180h160v-160H180v160Zm440 0h160v-160H620v160Z\"/>\n",
              "  </svg>\n",
              "    </button>\n",
              "\n",
              "  <style>\n",
              "    .colab-df-container {\n",
              "      display:flex;\n",
              "      gap: 12px;\n",
              "    }\n",
              "\n",
              "    .colab-df-convert {\n",
              "      background-color: #E8F0FE;\n",
              "      border: none;\n",
              "      border-radius: 50%;\n",
              "      cursor: pointer;\n",
              "      display: none;\n",
              "      fill: #1967D2;\n",
              "      height: 32px;\n",
              "      padding: 0 0 0 0;\n",
              "      width: 32px;\n",
              "    }\n",
              "\n",
              "    .colab-df-convert:hover {\n",
              "      background-color: #E2EBFA;\n",
              "      box-shadow: 0px 1px 2px rgba(60, 64, 67, 0.3), 0px 1px 3px 1px rgba(60, 64, 67, 0.15);\n",
              "      fill: #174EA6;\n",
              "    }\n",
              "\n",
              "    .colab-df-buttons div {\n",
              "      margin-bottom: 4px;\n",
              "    }\n",
              "\n",
              "    [theme=dark] .colab-df-convert {\n",
              "      background-color: #3B4455;\n",
              "      fill: #D2E3FC;\n",
              "    }\n",
              "\n",
              "    [theme=dark] .colab-df-convert:hover {\n",
              "      background-color: #434B5C;\n",
              "      box-shadow: 0px 1px 3px 1px rgba(0, 0, 0, 0.15);\n",
              "      filter: drop-shadow(0px 1px 2px rgba(0, 0, 0, 0.3));\n",
              "      fill: #FFFFFF;\n",
              "    }\n",
              "  </style>\n",
              "\n",
              "    <script>\n",
              "      const buttonEl =\n",
              "        document.querySelector('#df-817c5d26-2888-48e4-82c0-92dd508a90ee button.colab-df-convert');\n",
              "      buttonEl.style.display =\n",
              "        google.colab.kernel.accessAllowed ? 'block' : 'none';\n",
              "\n",
              "      async function convertToInteractive(key) {\n",
              "        const element = document.querySelector('#df-817c5d26-2888-48e4-82c0-92dd508a90ee');\n",
              "        const dataTable =\n",
              "          await google.colab.kernel.invokeFunction('convertToInteractive',\n",
              "                                                    [key], {});\n",
              "        if (!dataTable) return;\n",
              "\n",
              "        const docLinkHtml = 'Like what you see? Visit the ' +\n",
              "          '<a target=\"_blank\" href=https://colab.research.google.com/notebooks/data_table.ipynb>data table notebook</a>'\n",
              "          + ' to learn more about interactive tables.';\n",
              "        element.innerHTML = '';\n",
              "        dataTable['output_type'] = 'display_data';\n",
              "        await google.colab.output.renderOutput(dataTable, element);\n",
              "        const docLink = document.createElement('div');\n",
              "        docLink.innerHTML = docLinkHtml;\n",
              "        element.appendChild(docLink);\n",
              "      }\n",
              "    </script>\n",
              "  </div>\n",
              "\n",
              "\n",
              "<div id=\"df-a0e965a5-3b5e-4fa6-85b4-b8136cfc0bfe\">\n",
              "  <button class=\"colab-df-quickchart\" onclick=\"quickchart('df-a0e965a5-3b5e-4fa6-85b4-b8136cfc0bfe')\"\n",
              "            title=\"Suggest charts.\"\n",
              "            style=\"display:none;\">\n",
              "\n",
              "<svg xmlns=\"http://www.w3.org/2000/svg\" height=\"24px\"viewBox=\"0 0 24 24\"\n",
              "     width=\"24px\">\n",
              "    <g>\n",
              "        <path d=\"M19 3H5c-1.1 0-2 .9-2 2v14c0 1.1.9 2 2 2h14c1.1 0 2-.9 2-2V5c0-1.1-.9-2-2-2zM9 17H7v-7h2v7zm4 0h-2V7h2v10zm4 0h-2v-4h2v4z\"/>\n",
              "    </g>\n",
              "</svg>\n",
              "  </button>\n",
              "\n",
              "<style>\n",
              "  .colab-df-quickchart {\n",
              "      --bg-color: #E8F0FE;\n",
              "      --fill-color: #1967D2;\n",
              "      --hover-bg-color: #E2EBFA;\n",
              "      --hover-fill-color: #174EA6;\n",
              "      --disabled-fill-color: #AAA;\n",
              "      --disabled-bg-color: #DDD;\n",
              "  }\n",
              "\n",
              "  [theme=dark] .colab-df-quickchart {\n",
              "      --bg-color: #3B4455;\n",
              "      --fill-color: #D2E3FC;\n",
              "      --hover-bg-color: #434B5C;\n",
              "      --hover-fill-color: #FFFFFF;\n",
              "      --disabled-bg-color: #3B4455;\n",
              "      --disabled-fill-color: #666;\n",
              "  }\n",
              "\n",
              "  .colab-df-quickchart {\n",
              "    background-color: var(--bg-color);\n",
              "    border: none;\n",
              "    border-radius: 50%;\n",
              "    cursor: pointer;\n",
              "    display: none;\n",
              "    fill: var(--fill-color);\n",
              "    height: 32px;\n",
              "    padding: 0;\n",
              "    width: 32px;\n",
              "  }\n",
              "\n",
              "  .colab-df-quickchart:hover {\n",
              "    background-color: var(--hover-bg-color);\n",
              "    box-shadow: 0 1px 2px rgba(60, 64, 67, 0.3), 0 1px 3px 1px rgba(60, 64, 67, 0.15);\n",
              "    fill: var(--button-hover-fill-color);\n",
              "  }\n",
              "\n",
              "  .colab-df-quickchart-complete:disabled,\n",
              "  .colab-df-quickchart-complete:disabled:hover {\n",
              "    background-color: var(--disabled-bg-color);\n",
              "    fill: var(--disabled-fill-color);\n",
              "    box-shadow: none;\n",
              "  }\n",
              "\n",
              "  .colab-df-spinner {\n",
              "    border: 2px solid var(--fill-color);\n",
              "    border-color: transparent;\n",
              "    border-bottom-color: var(--fill-color);\n",
              "    animation:\n",
              "      spin 1s steps(1) infinite;\n",
              "  }\n",
              "\n",
              "  @keyframes spin {\n",
              "    0% {\n",
              "      border-color: transparent;\n",
              "      border-bottom-color: var(--fill-color);\n",
              "      border-left-color: var(--fill-color);\n",
              "    }\n",
              "    20% {\n",
              "      border-color: transparent;\n",
              "      border-left-color: var(--fill-color);\n",
              "      border-top-color: var(--fill-color);\n",
              "    }\n",
              "    30% {\n",
              "      border-color: transparent;\n",
              "      border-left-color: var(--fill-color);\n",
              "      border-top-color: var(--fill-color);\n",
              "      border-right-color: var(--fill-color);\n",
              "    }\n",
              "    40% {\n",
              "      border-color: transparent;\n",
              "      border-right-color: var(--fill-color);\n",
              "      border-top-color: var(--fill-color);\n",
              "    }\n",
              "    60% {\n",
              "      border-color: transparent;\n",
              "      border-right-color: var(--fill-color);\n",
              "    }\n",
              "    80% {\n",
              "      border-color: transparent;\n",
              "      border-right-color: var(--fill-color);\n",
              "      border-bottom-color: var(--fill-color);\n",
              "    }\n",
              "    90% {\n",
              "      border-color: transparent;\n",
              "      border-bottom-color: var(--fill-color);\n",
              "    }\n",
              "  }\n",
              "</style>\n",
              "\n",
              "  <script>\n",
              "    async function quickchart(key) {\n",
              "      const quickchartButtonEl =\n",
              "        document.querySelector('#' + key + ' button');\n",
              "      quickchartButtonEl.disabled = true;  // To prevent multiple clicks.\n",
              "      quickchartButtonEl.classList.add('colab-df-spinner');\n",
              "      try {\n",
              "        const charts = await google.colab.kernel.invokeFunction(\n",
              "            'suggestCharts', [key], {});\n",
              "      } catch (error) {\n",
              "        console.error('Error during call to suggestCharts:', error);\n",
              "      }\n",
              "      quickchartButtonEl.classList.remove('colab-df-spinner');\n",
              "      quickchartButtonEl.classList.add('colab-df-quickchart-complete');\n",
              "    }\n",
              "    (() => {\n",
              "      let quickchartButtonEl =\n",
              "        document.querySelector('#df-a0e965a5-3b5e-4fa6-85b4-b8136cfc0bfe button');\n",
              "      quickchartButtonEl.style.display =\n",
              "        google.colab.kernel.accessAllowed ? 'block' : 'none';\n",
              "    })();\n",
              "  </script>\n",
              "</div>\n",
              "    </div>\n",
              "  </div>\n"
            ]
          },
          "metadata": {},
          "execution_count": 14
        }
      ]
    },
    {
      "cell_type": "markdown",
      "metadata": {
        "id": "aGaPkQkVSvl8"
      },
      "source": [
        "## Задание 8"
      ]
    },
    {
      "cell_type": "markdown",
      "metadata": {
        "id": "T7Ox1qAXTHQl"
      },
      "source": [
        "1. Из поля tr_datetime выделите час tr_hour, в который произошла транзакция, как первые 2 цифры до \":\". (\\**)\n",
        "2. Посчитайте количество транзакций с amount<0 в ночное время для мужчин и женщин. Ночное время - это примерно 00-06 часов."
      ]
    },
    {
      "cell_type": "code",
      "source": [
        "# Извлечение часа из поля tr_datetime\n",
        "transactions['tr_hour'] = transactions['tr_datetime'].apply(lambda x: int(x.split()[1].split(':')[0]))\n",
        "\n",
        "# Фильтрация транзакций с amount < 0 и в ночное время\n",
        "negative_transactions = transactions[(transactions['amount'] < 0) & (transactions['tr_hour'] >= 0) & (transactions['tr_hour'] < 6)]\n",
        "\n",
        "# Группировка данных по полу и подсчет количества транзакций\n",
        "count_gender0 = len(negative_transactions[negative_transactions['gender'] == 0])\n",
        "count_gender1 = len(negative_transactions[negative_transactions['gender'] == 1])\n",
        "\n",
        "# Вывод результатов\n",
        "print(f\"Количество транзакций с amount < 0 в ночное время для мужчин: {count_gender0}\")\n",
        "print(f\"Количество транзакций с amount < 0 в ночное время для женщин: {count_gender1}\")"
      ],
      "metadata": {
        "colab": {
          "base_uri": "https://localhost:8080/"
        },
        "id": "v8cQLClLJp-d",
        "outputId": "c5fb35b6-eb25-40fe-f38d-420e82228525"
      },
      "execution_count": null,
      "outputs": [
        {
          "output_type": "stream",
          "name": "stdout",
          "text": [
            "Количество транзакций с amount < 0 в ночное время для мужчин: 38827\n",
            "Количество транзакций с amount < 0 в ночное время для женщин: 43017\n"
          ]
        }
      ]
    }
  ]
}